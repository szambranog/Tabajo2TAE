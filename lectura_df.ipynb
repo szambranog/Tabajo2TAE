{
 "cells": [
  {
   "cell_type": "markdown",
   "metadata": {},
   "source": [
    "# Importar librerías"
   ]
  },
  {
   "cell_type": "code",
   "execution_count": 152,
   "metadata": {},
   "outputs": [],
   "source": [
    "import pandas as pd\n",
    "import numpy as np"
   ]
  },
  {
   "cell_type": "code",
   "execution_count": 153,
   "metadata": {},
   "outputs": [
    {
     "name": "stderr",
     "output_type": "stream",
     "text": [
      "/home/ext4ur/.local/lib/python3.8/site-packages/IPython/core/interactiveshell.py:3398: DtypeWarning: Columns (7,9,1427,1542,1561,1575) have mixed types.Specify dtype option on import or set low_memory=False.\n",
      "  exec(code_obj, self.user_global_ns, self.user_ns)\n"
     ]
    }
   ],
   "source": [
    "df = pd.read_csv('Archivos/CollegeScorecard.csv')\n"
   ]
  },
  {
   "cell_type": "code",
   "execution_count": 154,
   "metadata": {},
   "outputs": [],
   "source": [
    "null_columns = []\n",
    "for column in df.columns:\n",
    "    \n",
    "    if df[column].isnull().all():\n",
    "        \n",
    "        null_columns.append(column)\n",
    "        \n",
    "df.drop(columns=null_columns, inplace=True)"
   ]
  },
  {
   "cell_type": "code",
   "execution_count": 155,
   "metadata": {},
   "outputs": [
    {
     "name": "stdout",
     "output_type": "stream",
     "text": [
      "522\n"
     ]
    }
   ],
   "source": [
    "#print(df.columns.to_list())\n",
    "\n",
    "borrar = ['UNITID', 'OPEID', 'opeid6', 'INSTURL', 'NPCURL', 'LATITUDE', 'LONGITUDE', 'ADM_RATE_ALL',\n",
    "          'SATVR25', 'SATVR75', 'SATMT25', 'SATMT75', 'SATWR25', 'SATWR75',\n",
    "          'ACTCM25', 'ACTCM75', 'ACTEN25', 'ACTEN75', 'ACTMT25', 'ACTMT75', 'ACTWR25', 'ACTWR75',\n",
    "          'NPT41_PROG', 'NPT42_PROG', 'NPT43_PROG', 'NPT44_PROG', 'NPT45_PROG',\n",
    "          'NPT41_OTHER', 'NPT42_OTHER', 'NPT43_OTHER', 'NPT44_OTHER', 'NPT45_OTHER',\n",
    "          'NPT4_048_PUB', 'NPT4_048_PRIV', 'NPT4_048_PROG', 'NPT4_048_OTHER',\n",
    "          'NPT4_3075_PUB', 'NPT4_3075_PRIV', 'NPT4_75UP_PUB', 'NPT4_75UP_PRIV',\n",
    "          'NPT4_3075_PROG', 'NPT4_3075_OTHER', 'NPT4_75UP_PROG', 'NPT4_75UP_OTHER',\n",
    "          'SAT_AVG_ALL', 'NUM4_PROG', 'NUM4_OTHER'\n",
    "          'STABBR', # Duplicada por st_fips\n",
    "          'locale2' # Todo nulo\n",
    "          ]\n",
    "\n",
    "convertir = ['MENONLY', 'WOMENONLY', # -> Columna ___ 0 mixto, 1 menonly, 2 womenonly\n",
    "             'NPT4_PUB', 'NPT4_PRIV', # -> Columna ___ Average Net Price\n",
    "             'NUM4_PUB', 'NUM4_PRIV', # -> Columna ___ Number of title 4 students\n",
    "             'NPT41_PUB', 'NPT41_PRIV', # -> Columna ___ Average net price for $0-$30,000 family income\n",
    "             'NPT42_PUB', 'NPT42_PRIV', # -> Columna ___ Average net price for $30,001-$48,000 family income\n",
    "             'NPT43_PUB', 'NPT43_PRIV', # -> Columna ___ Average net price for $48,001-$75,000 family income\n",
    "             'NPT44_PUB', 'NPT44_PRIV', # -> Columna ___ Average net price for $75,001-$110,000 family income\n",
    "             'NPT45_PUB', 'NPT45_PRIV', # -> Columna ___ Average net price for $110,000+ family income\n",
    "             'NUM41_PUB', 'NUM41_PRIV', # Columna -> Number of Title IV students, $0-$30,000 family income\n",
    "             'NUM42_PUB', 'NUM42_PRIV', # Columna -> Number of Title IV students, $30,001-$48,000 family income\n",
    "             'NUM43_PUB', 'NUM43_PRIV', # Columna -> Number of Title IV students, $48,001-$75,000 family income\n",
    "             'NUM44_PUB', 'NUM44_PRIV', # Columna -> Number of Title IV students, $75,001-$110,000 family income\n",
    "             'NUM45_PUB', 'NUM45_PRIV', # Columna -> Number of Title IV students, $110,000+ family income\n",
    "             ]\n",
    "\n",
    "df.drop(columns=borrar, errors='ignore', inplace=True)\n",
    "\n",
    "print(len(df.columns))"
   ]
  },
  {
   "cell_type": "code",
   "execution_count": 156,
   "metadata": {},
   "outputs": [
    {
     "name": "stdout",
     "output_type": "stream",
     "text": [
      "MENONLY [0.0, 1.0] || WOMENONLY [0.0, 1.0]\n",
      "NPT4_PUB [nan] || NPT4_PRIV [nan]\n",
      "NUM4_PUB [nan] || NUM4_PRIV [nan]\n",
      "NPT41_PUB [nan] || NPT41_PRIV [nan]\n",
      "NPT42_PUB [nan] || NPT42_PRIV [nan]\n",
      "NPT43_PUB [nan] || NPT43_PRIV [nan]\n",
      "NPT44_PUB [nan] || NPT44_PRIV [nan]\n",
      "NPT45_PUB [nan] || NPT45_PRIV [nan]\n",
      "NUM41_PUB [nan] || NUM41_PRIV [nan]\n",
      "NUM42_PUB [nan] || NUM42_PRIV [nan]\n",
      "NUM43_PUB [nan] || NUM43_PRIV [nan]\n",
      "NUM44_PUB [nan] || NUM44_PRIV [nan]\n",
      "NUM45_PUB [nan] || NUM45_PRIV [nan]\n"
     ]
    }
   ],
   "source": [
    "for i in range(0, len(convertir), 2):\n",
    "    \n",
    "    print(convertir[i], df[convertir[i]].loc[~df[convertir[i+1]].isna()].drop_duplicates().to_list(), end=' || ')\n",
    "    print(convertir[i+1], df[convertir[i+1]].loc[~df[convertir[i]].isna()].drop_duplicates().to_list())"
   ]
  },
  {
   "cell_type": "code",
   "execution_count": 157,
   "metadata": {},
   "outputs": [],
   "source": [
    "df[convertir] = df[convertir].fillna(0)\n",
    "\n",
    "df.loc[df['MENONLY'].eq(1), 'type'] = 1\n",
    "df.loc[df['WOMENONLY'].eq(1), 'type'] = 2\n",
    "df['type'] = df['type'].fillna(0)\n",
    "\n",
    "df['NPT4'] = df['NPT4_PUB'] + df['NPT4_PRIV']\n",
    "df['NUM4'] = df['NUM4_PUB'] + df['NUM4_PRIV']\n",
    "df['NPT41'] = df['NPT41_PUB'] + df['NPT41_PRIV']\n",
    "df['NPT42'] = df['NPT42_PUB'] + df['NPT42_PRIV']\n",
    "df['NPT43'] = df['NPT43_PUB'] + df['NPT43_PRIV']\n",
    "df['NPT44'] = df['NPT44_PUB'] + df['NPT44_PRIV']\n",
    "df['NPT45'] = df['NPT45_PUB'] + df['NPT45_PRIV']\n",
    "df['NUM41'] = df['NUM41_PUB'] + df['NUM41_PRIV']\n",
    "df['NUM42'] = df['NUM42_PUB'] + df['NUM42_PRIV']\n",
    "df['NUM43'] = df['NUM43_PUB'] + df['NUM43_PRIV']\n",
    "df['NUM44'] = df['NUM44_PUB'] + df['NUM44_PRIV']\n",
    "df['NUM45'] = df['NUM45_PUB'] + df['NUM45_PRIV']\n",
    "\n",
    "df.drop(columns=convertir, errors='ignore', inplace=True)"
   ]
  },
  {
   "cell_type": "code",
   "execution_count": 159,
   "metadata": {},
   "outputs": [],
   "source": [
    "datos = []\n",
    "lot_null_columns = []\n",
    "for column in df.columns:\n",
    "    \n",
    "    total = df[column].isna().sum()\n",
    "    \n",
    "    if total >= 1000:\n",
    "        \n",
    "        lot_null_columns.append(column)\n",
    "        \n",
    "        if total >= 7000:\n",
    "            datos.append({'column': column, 'total': total, 'group': 7000})\n",
    "        elif total >= 6000:\n",
    "            datos.append({'column': column, 'total': total, 'group': 6000})\n",
    "        elif total >= 5000:\n",
    "            datos.append({'column': column, 'total': total, 'group': 5000})\n",
    "        elif total >= 4000:\n",
    "            datos.append({'column': column, 'total': total, 'group': 4000})\n",
    "        elif total >= 3000:\n",
    "            datos.append({'column': column, 'total': total, 'group': 3000})\n",
    "        elif total >= 2000:\n",
    "            datos.append({'column': column, 'total': total, 'group': 2000})\n",
    "        elif total >= 1000:\n",
    "            datos.append({'column': column, 'total': total, 'group': 1000})\n",
    "            \n",
    "df.drop(columns=lot_null_columns, inplace=True)\n"
   ]
  },
  {
   "cell_type": "code",
   "execution_count": 160,
   "metadata": {},
   "outputs": [
    {
     "name": "stdout",
     "output_type": "stream",
     "text": [
      "Index(['INSTNM', 'CITY', 'STABBR', 'ZIP', 'HCM2', 'main', 'NUMBRANCH',\n",
      "       'PREDDEG', 'HIGHDEG', 'CONTROL',\n",
      "       ...\n",
      "       'NPT41', 'NPT42', 'NPT43', 'NPT44', 'NPT45', 'NUM41', 'NUM42', 'NUM43',\n",
      "       'NUM44', 'NUM45'],\n",
      "      dtype='object', length=377)\n"
     ]
    }
   ],
   "source": [
    "print(df.columns)"
   ]
  },
  {
   "cell_type": "code",
   "execution_count": 161,
   "metadata": {},
   "outputs": [],
   "source": [
    "df.to_csv('Archivos/data.csv', index=False)"
   ]
  }
 ],
 "metadata": {
  "interpreter": {
   "hash": "31f2aee4e71d21fbe5cf8b01ff0e069b9275f58929596ceb00d14d90e3e16cd6"
  },
  "kernelspec": {
   "display_name": "Python 3.8.10 64-bit",
   "language": "python",
   "name": "python3"
  },
  "language_info": {
   "codemirror_mode": {
    "name": "ipython",
    "version": 3
   },
   "file_extension": ".py",
   "mimetype": "text/x-python",
   "name": "python",
   "nbconvert_exporter": "python",
   "pygments_lexer": "ipython3",
   "version": "3.8.10"
  },
  "orig_nbformat": 4
 },
 "nbformat": 4,
 "nbformat_minor": 2
}

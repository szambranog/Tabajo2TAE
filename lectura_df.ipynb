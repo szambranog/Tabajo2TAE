{
 "cells": [
  {
   "cell_type": "markdown",
   "metadata": {},
   "source": [
    "# Importar librerías"
   ]
  },
  {
   "cell_type": "code",
   "execution_count": null,
   "metadata": {},
   "outputs": [],
   "source": [
    "import pandas as pd\n",
    "import numpy as np"
   ]
  },
  {
   "cell_type": "code",
   "execution_count": null,
   "metadata": {},
   "outputs": [],
   "source": [
    "df = pd.read_csv('Archivos/CollegeScorecard.csv')\n",
    "df.shape"
   ]
  },
  {
   "cell_type": "code",
   "execution_count": null,
   "metadata": {},
   "outputs": [],
   "source": [
    "null_columns = []\n",
    "for column in df.columns:\n",
    "    \n",
    "    if df[column].isnull().all():\n",
    "        \n",
    "        null_columns.append(column)\n",
    "        \n",
    "df.drop(columns=null_columns, inplace=True)"
   ]
  },
  {
   "cell_type": "code",
   "execution_count": null,
   "metadata": {},
   "outputs": [],
   "source": [
    "  #  print(df.columns.to_list())\n",
    "\n",
    "borrar = ['UNITID', 'OPEID', 'opeid6', 'INSTURL', 'NPCURL', 'LATITUDE', 'LONGITUDE', 'ADM_RATE_ALL',\n",
    "          'SATVR25', 'SATVR75', 'SATMT25', 'SATMT75', 'SATWR25', 'SATWR75',\n",
    "          'ACTCM25', 'ACTCM75', 'ACTEN25', 'ACTEN75', 'ACTMT25', 'ACTMT75', 'ACTWR25', 'ACTWR75',\n",
    "          'NPT41_PROG', 'NPT42_PROG', 'NPT43_PROG', 'NPT44_PROG', 'NPT45_PROG',\n",
    "          'NPT41_OTHER', 'NPT42_OTHER', 'NPT43_OTHER', 'NPT44_OTHER', 'NPT45_OTHER',\n",
    "          'NPT4_048_PUB', 'NPT4_048_PRIV', 'NPT4_048_PROG', 'NPT4_048_OTHER',\n",
    "          'NPT4_3075_PUB', 'NPT4_3075_PRIV', 'NPT4_75UP_PUB', 'NPT4_75UP_PRIV',\n",
    "          'NPT4_3075_PROG', 'NPT4_3075_OTHER', 'NPT4_75UP_PROG', 'NPT4_75UP_OTHER',\n",
    "          'SAT_AVG_ALL', 'NUM4_PROG', 'NUM4_OTHER'\n",
    "          'STABBR', # Duplicada por st_fips\n",
    "          'locale2', # Todo nulo\n",
    "          \n",
    "          'st_fips','region', 'LOCALE', # Locate opcional\n",
    "          'CURROPER',\n",
    "          'PCIP01', 'PCIP03', 'PCIP04', 'PCIP05', 'PCIP09', 'PCIP10', 'PCIP11', 'PCIP12', 'PCIP13', \n",
    "          'PCIP14', 'PCIP15', 'PCIP16', 'PCIP19', 'PCIP22', 'PCIP23', 'PCIP24', 'PCIP25', 'PCIP26', \n",
    "          'PCIP27', 'PCIP29', 'PCIP30', 'PCIP31', 'PCIP38', 'PCIP39', 'PCIP40', 'PCIP41', 'PCIP42', \n",
    "          'PCIP43', 'PCIP44', 'PCIP45', 'PCIP46', 'PCIP47', 'PCIP48', 'PCIP49', 'PCIP50', 'PCIP51', \n",
    "          'PCIP52', 'PCIP54', 'CIP01CERT1', 'CIP01CERT2', 'CIP01ASSOC', 'CIP01CERT4', 'CIP01BACHL', \n",
    "          'CIP03CERT1', 'CIP03CERT2', 'CIP03ASSOC', 'CIP03CERT4', 'CIP03BACHL', 'CIP04CERT1', 'CIP04CERT2', \n",
    "          'CIP04ASSOC', 'CIP04CERT4', 'CIP04BACHL', 'CIP05CERT1', 'CIP05CERT2', 'CIP05ASSOC', 'CIP05CERT4', \n",
    "          'CIP05BACHL', 'CIP09CERT1', 'CIP09CERT2', 'CIP09ASSOC', 'CIP09CERT4', 'CIP09BACHL', 'CIP10CERT1', \n",
    "          'CIP10CERT2', 'CIP10ASSOC', 'CIP10CERT4', 'CIP10BACHL', 'CIP11CERT1', 'CIP11CERT2', 'CIP11ASSOC', \n",
    "          'CIP11CERT4', 'CIP11BACHL', 'CIP12CERT1', 'CIP12CERT2', 'CIP12ASSOC', 'CIP12CERT4', 'CIP12BACHL', \n",
    "          'CIP13CERT1', 'CIP13CERT2', 'CIP13ASSOC', 'CIP13CERT4', 'CIP13BACHL', 'CIP14CERT1', 'CIP14CERT2', \n",
    "          'CIP14ASSOC', 'CIP14CERT4', 'CIP14BACHL', 'CIP15CERT1', 'CIP15CERT2', 'CIP15ASSOC', 'CIP15CERT4', \n",
    "          'CIP15BACHL', 'CIP16CERT1', 'CIP16CERT2', 'CIP16ASSOC', 'CIP16CERT4', 'CIP16BACHL', 'CIP19CERT1', \n",
    "          'CIP19CERT2', 'CIP19ASSOC', 'CIP19CERT4', 'CIP19BACHL', 'CIP22CERT1', 'CIP22CERT2', 'CIP22ASSOC', \n",
    "          'CIP22CERT4', 'CIP22BACHL', 'CIP23CERT1', 'CIP23CERT2', 'CIP23ASSOC', 'CIP23CERT4', 'CIP23BACHL', \n",
    "          'CIP24CERT1', 'CIP24CERT2', 'CIP24ASSOC', 'CIP24CERT4', 'CIP24BACHL', 'CIP25CERT1', 'CIP25CERT2', \n",
    "          'CIP25ASSOC', 'CIP25CERT4', 'CIP25BACHL', 'CIP26CERT1', 'CIP26CERT2', 'CIP26ASSOC', 'CIP26CERT4', \n",
    "          'CIP26BACHL', 'CIP27CERT1', 'CIP27CERT2', 'CIP27ASSOC', 'CIP27CERT4', 'CIP27BACHL', 'CIP29CERT1', \n",
    "          'CIP29CERT2', 'CIP29ASSOC', 'CIP29CERT4', 'CIP29BACHL', 'CIP30CERT1', 'CIP30CERT2', 'CIP30ASSOC', \n",
    "          'CIP30CERT4', 'CIP30BACHL', 'CIP31CERT1', 'CIP31CERT2', 'CIP31ASSOC', 'CIP31CERT4', 'CIP31BACHL', \n",
    "          'CIP38CERT1', 'CIP38CERT2', 'CIP38ASSOC', 'CIP38CERT4', 'CIP38BACHL', 'CIP39CERT1', 'CIP39CERT2', \n",
    "          'CIP39ASSOC', 'CIP39CERT4', 'CIP39BACHL', 'CIP40CERT1', 'CIP40CERT2', 'CIP40ASSOC', 'CIP40CERT4', \n",
    "          'CIP40BACHL', 'CIP41CERT1', 'CIP41CERT2', 'CIP41ASSOC', 'CIP41CERT4', 'CIP41BACHL', 'CIP42CERT1', \n",
    "          'CIP42CERT2', 'CIP42ASSOC', 'CIP42CERT4', 'CIP42BACHL', 'CIP43CERT1', 'CIP43CERT2', 'CIP43ASSOC', \n",
    "          'CIP43CERT4', 'CIP43BACHL', 'CIP44CERT1', 'CIP44CERT2', 'CIP44ASSOC', 'CIP44CERT4', 'CIP44BACHL', \n",
    "          'CIP45CERT1', 'CIP45CERT2', 'CIP45ASSOC', 'CIP45CERT4', 'CIP45BACHL', 'CIP46CERT1', 'CIP46CERT2', \n",
    "          'CIP46ASSOC', 'CIP46CERT4', 'CIP46BACHL', 'CIP47CERT1', 'CIP47CERT2', 'CIP47ASSOC', 'CIP47CERT4', \n",
    "          'CIP47BACHL', 'CIP48CERT1', 'CIP48CERT2', 'CIP48ASSOC', 'CIP48CERT4', 'CIP48BACHL', 'CIP49CERT1', \n",
    "          'CIP49CERT2', 'CIP49ASSOC', 'CIP49CERT4', 'CIP49BACHL', 'CIP50CERT1', 'CIP50CERT2', 'CIP50ASSOC', \n",
    "          'CIP50CERT4', 'CIP50BACHL', 'CIP51CERT1', 'CIP51CERT2', 'CIP51ASSOC', 'CIP51CERT4', 'CIP51BACHL', \n",
    "          'CIP52CERT1', 'CIP52CERT2', 'CIP52ASSOC', 'CIP52CERT4', 'CIP52BACHL', 'CIP54CERT1', 'CIP54CERT2', \n",
    "          'CIP54ASSOC', 'CIP54CERT4', 'CIP54BACHL', #opcional PCIP01 - CIP54BACHL\n",
    "          'RPY_3YR_RT', 'DEP_STAT_PCT_IND',\n",
    "          ]\n",
    "\n",
    "convertir = ['MENONLY', 'WOMENONLY', # -> Columna ___ 0 mixto, 1 menonly, 2 womenonly\n",
    "             'NPT4_PUB', 'NPT4_PRIV', # -> Columna ___ Average Net Price\n",
    "             'NUM4_PUB', 'NUM4_PRIV', # -> Columna ___ Number of title 4 students\n",
    "             'NPT41_PUB', 'NPT41_PRIV', # -> Columna ___ Average net price for $0-$30,000 family income\n",
    "             'NPT42_PUB', 'NPT42_PRIV', # -> Columna ___ Average net price for $30,001-$48,000 family income\n",
    "             'NPT43_PUB', 'NPT43_PRIV', # -> Columna ___ Average net price for $48,001-$75,000 family income\n",
    "             'NPT44_PUB', 'NPT44_PRIV', # -> Columna ___ Average net price for $75,001-$110,000 family income\n",
    "             'NPT45_PUB', 'NPT45_PRIV', # -> Columna ___ Average net price for $110,000+ family income\n",
    "             'NUM41_PUB', 'NUM41_PRIV', # Columna -> Number of Title IV students, $0-$30,000 family income\n",
    "             'NUM42_PUB', 'NUM42_PRIV', # Columna -> Number of Title IV students, $30,001-$48,000 family income\n",
    "             'NUM43_PUB', 'NUM43_PRIV', # Columna -> Number of Title IV students, $48,001-$75,000 family income\n",
    "             'NUM44_PUB', 'NUM44_PRIV', # Columna -> Number of Title IV students, $75,001-$110,000 family income\n",
    "             'NUM45_PUB', 'NUM45_PRIV', # Columna -> Number of Title IV students, $110,000+ family income\n",
    "             ]\n",
    "\n",
    "df.drop(columns=borrar, errors='ignore', inplace=True)\n",
    "\n",
    "print(len(df.columns))"
   ]
  },
  {
   "cell_type": "code",
   "execution_count": null,
   "metadata": {},
   "outputs": [],
   "source": [
    "for i in range(0, len(convertir), 2):\n",
    "    \n",
    "    print(convertir[i], df[convertir[i]].loc[~df[convertir[i+1]].isna()].drop_duplicates().to_list(), end=' || ')\n",
    "    print(convertir[i+1], df[convertir[i+1]].loc[~df[convertir[i]].isna()].drop_duplicates().to_list())"
   ]
  },
  {
   "cell_type": "code",
   "execution_count": null,
   "metadata": {},
   "outputs": [],
   "source": [
    "df[convertir] = df[convertir].fillna(0)\n",
    "\n",
    "df.loc[df['MENONLY'].eq(1), 'type'] = 1\n",
    "df.loc[df['WOMENONLY'].eq(1), 'type'] = 2\n",
    "df['type'] = df['type'].fillna(0)\n",
    "\n",
    "df['NPT4'] = df['NPT4_PUB'] + df['NPT4_PRIV']\n",
    "df['NUM4'] = df['NUM4_PUB'] + df['NUM4_PRIV']\n",
    "df['NPT41'] = df['NPT41_PUB'] + df['NPT41_PRIV']\n",
    "df['NPT42'] = df['NPT42_PUB'] + df['NPT42_PRIV']\n",
    "df['NPT43'] = df['NPT43_PUB'] + df['NPT43_PRIV']\n",
    "df['NPT44'] = df['NPT44_PUB'] + df['NPT44_PRIV']\n",
    "df['NPT45'] = df['NPT45_PUB'] + df['NPT45_PRIV']\n",
    "df['NUM41'] = df['NUM41_PUB'] + df['NUM41_PRIV']\n",
    "df['NUM42'] = df['NUM42_PUB'] + df['NUM42_PRIV']\n",
    "df['NUM43'] = df['NUM43_PUB'] + df['NUM43_PRIV']\n",
    "df['NUM44'] = df['NUM44_PUB'] + df['NUM44_PRIV']\n",
    "df['NUM45'] = df['NUM45_PUB'] + df['NUM45_PRIV']\n",
    "\n",
    "df.drop(columns=convertir, errors='ignore', inplace=True)"
   ]
  },
  {
   "cell_type": "code",
   "execution_count": null,
   "metadata": {},
   "outputs": [],
   "source": [
    "datos = []\n",
    "lot_null_columns = []\n",
    "for column in df.columns:\n",
    "    \n",
    "    total = df[column].isna().sum()\n",
    "    \n",
    "    if total >= 1000:\n",
    "        \n",
    "        lot_null_columns.append(column)\n",
    "        \n",
    "        if total >= 7000:\n",
    "            datos.append({'column': column, 'total': total, 'group': 7000})\n",
    "        elif total >= 6000:\n",
    "            datos.append({'column': column, 'total': total, 'group': 6000})\n",
    "        elif total >= 5000:\n",
    "            datos.append({'column': column, 'total': total, 'group': 5000})\n",
    "        elif total >= 4000:\n",
    "            datos.append({'column': column, 'total': total, 'group': 4000})\n",
    "        elif total >= 3000:\n",
    "            datos.append({'column': column, 'total': total, 'group': 3000})\n",
    "        elif total >= 2000:\n",
    "            datos.append({'column': column, 'total': total, 'group': 2000})\n",
    "        elif total >= 1000:\n",
    "            datos.append({'column': column, 'total': total, 'group': 1000})\n",
    "            \n",
    "df.drop(columns=lot_null_columns, inplace=True)\n"
   ]
  },
  {
   "cell_type": "code",
   "execution_count": null,
   "metadata": {},
   "outputs": [],
   "source": [
    "print(df.columns)\n",
    "print(df.columns.to_list())"
   ]
  },
  {
   "cell_type": "code",
   "execution_count": null,
   "metadata": {},
   "outputs": [],
   "source": [
    "pd.set_option('display.max_columns', None)\n",
    "df.head()\n"
   ]
  },
  {
   "cell_type": "code",
   "execution_count": null,
   "metadata": {},
   "outputs": [],
   "source": [
    "df.shape"
   ]
  },
  {
   "cell_type": "code",
   "execution_count": null,
   "metadata": {},
   "outputs": [],
   "source": [
    "categoric = df.nunique()[df.nunique()<=10]\n",
    "df.drop(columns=categoric.index, inplace=True)"
   ]
  },
  {
   "cell_type": "code",
   "execution_count": null,
   "metadata": {},
   "outputs": [],
   "source": [
    "null_val= df.isnull().sum()[df.isnull().sum()>0]\n",
    "null_val.count()"
   ]
  },
  {
   "cell_type": "code",
   "execution_count": null,
   "metadata": {},
   "outputs": [],
   "source": [
    "df = df.replace('PrivacySuppressed', np.nan)\n",
    "col= null_val.index\n",
    "v=0\n",
    "for i in col:\n",
    "    medians= df[i].median()\n",
    "    df[i]= df[i].fillna(value=medians)"
   ]
  },
  {
   "cell_type": "code",
   "execution_count": null,
   "metadata": {},
   "outputs": [],
   "source": [
    "df.drop(columns=['INSTNM', 'CITY', 'STABBR', 'ZIP'], inplace=True)"
   ]
  },
  {
   "cell_type": "code",
   "execution_count": null,
   "metadata": {},
   "outputs": [],
   "source": [
    "df.to_csv('Archivos/data.csv', index=False)"
   ]
  },
  {
   "cell_type": "code",
   "execution_count": null,
   "metadata": {},
   "outputs": [],
   "source": [
    "from sklearn.decomposition import PCA\n",
    "import matplotlib.pyplot as plt\n"
   ]
  },
  {
   "cell_type": "code",
   "execution_count": null,
   "metadata": {},
   "outputs": [],
   "source": [
    "X = df.values\n",
    "pca = PCA(n_components=125)\n",
    "pca_fit=pca.fit(X)\n",
    "reduced_X = pca_fit.transform(X)"
   ]
  },
  {
   "cell_type": "markdown",
   "metadata": {},
   "source": [
    "Vamos a ver el número de componentes óptimo"
   ]
  },
  {
   "cell_type": "code",
   "execution_count": null,
   "metadata": {},
   "outputs": [],
   "source": [
    "var_explained_cumulative=np.cumsum(np.round(pca.explained_variance_ratio_, decimals=4)*100)\n",
    "plt.plot(range(1,126), var_explained_cumulative )\n",
    "plt.xlabel('Number of components')\n",
    "plt.ylabel('% Variance explained')\n",
    "plt.xlim(-1,15)"
   ]
  },
  {
   "cell_type": "code",
   "execution_count": null,
   "metadata": {},
   "outputs": [],
   "source": [
    "Vemos que lo óptimo serían 5 componentes"
   ]
  },
  {
   "cell_type": "code",
   "execution_count": null,
   "metadata": {},
   "outputs": [],
   "source": [
    "pca = PCA(n_components=5)\n",
    "\n",
    "# fitting the data\n",
    "pca_fit=pca.fit(X)\n",
    "\n",
    "# calculating the principal components\n",
    "reduced_X = pca_fit.transform(X)"
   ]
  },
  {
   "cell_type": "code",
   "execution_count": null,
   "metadata": {},
   "outputs": [],
   "source": [
    "from sklearn.preprocessing import StandardScaler\n",
    "PredictorScaler=StandardScaler()\n",
    "PredictorScalerFit=PredictorScaler.fit(reduced_X)\n",
    "\n",
    "# Generating the standardized values \n",
    "x_scaled = PredictorScalerFit.transform(reduced_X)\n",
    "df2 = pd.DataFrame(x_scaled)\n",
    "df2.columns=['PC1','PC2','PC3','PC4', 'PC5']\n",
    "df2.head()"
   ]
  },
  {
   "cell_type": "code",
   "execution_count": null,
   "metadata": {},
   "outputs": [],
   "source": [
    "# Finding the best number of clusters based on the inertia value\n",
    "from sklearn.cluster import KMeans\n",
    "import matplotlib.pyplot as plt\n",
    "inertiaValue = []\n",
    "\n",
    "valores = df2.values\n",
    "for i in range(1, 15):\n",
    "    km = KMeans(n_clusters=i, \n",
    "                init='random', \n",
    "                n_init=10, \n",
    "                max_iter=300,\n",
    "                tol=1e-04,\n",
    "                random_state=0)\n",
    "    \n",
    "    km.fit(valores)\n",
    "    inertiaValue.append(km.inertia_)\n",
    "    \n",
    "plt.plot(range(1, 15), inertiaValue, marker='o')\n",
    "plt.xlabel('Number of clusters')\n",
    "plt.ylabel('Inertia')\n",
    "plt.tight_layout()\n",
    "plt.show()"
   ]
  },
  {
   "cell_type": "markdown",
   "metadata": {},
   "source": [
    "En este caso vemos que el número de clusters recomendado es 6"
   ]
  },
  {
   "cell_type": "code",
   "execution_count": null,
   "metadata": {},
   "outputs": [],
   "source": [
    "km = KMeans(n_clusters= 6, \n",
    "            init='k-means++', \n",
    "            n_init=10, \n",
    "            max_iter=300,\n",
    "            tol=1e-04,\n",
    "            random_state=0)\n",
    "\n",
    "predictedCluster = km.fit_predict(valores)\n",
    "print(predictedCluster)\n",
    "print('Inertia:', km.inertia_)"
   ]
  },
  {
   "cell_type": "code",
   "execution_count": null,
   "metadata": {},
   "outputs": [],
   "source": [
    "df2['PredictedClusterID']=predictedCluster\n",
    "df2.head()"
   ]
  },
  {
   "cell_type": "code",
   "execution_count": null,
   "metadata": {},
   "outputs": [],
   "source": [
    "%matplotlib inline\n",
    "plt.scatter(x=df2['PC4'], y=df2['PC5'], c=df2['PredictedClusterID'])"
   ]
  },
  {
   "cell_type": "code",
   "execution_count": null,
   "metadata": {},
   "outputs": [],
   "source": [
    "%matplotlib inline\n",
    "plt.scatter(x=df2['PC2'], y=df2['PC4'], c=df2['PredictedClusterID'])"
   ]
  }
 ],
 "metadata": {
  "interpreter": {
   "hash": "31f2aee4e71d21fbe5cf8b01ff0e069b9275f58929596ceb00d14d90e3e16cd6"
  },
  "kernelspec": {
   "display_name": "Python 3 (ipykernel)",
   "language": "python",
   "name": "python3"
  },
  "language_info": {
   "codemirror_mode": {
    "name": "ipython",
    "version": 3
   },
   "file_extension": ".py",
   "mimetype": "text/x-python",
   "name": "python",
   "nbconvert_exporter": "python",
   "pygments_lexer": "ipython3",
   "version": "3.8.10"
  }
 },
 "nbformat": 4,
 "nbformat_minor": 2
}
